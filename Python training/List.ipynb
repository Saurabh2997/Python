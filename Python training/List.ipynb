{
  "cells": [
    {
      "metadata": {
        "trusted": true
      },
      "cell_type": "code",
      "source": "spam=['bat','cat','rat','mat','swat','hat']",
      "execution_count": null,
      "outputs": []
    },
    {
      "metadata": {
        "trusted": true
      },
      "cell_type": "code",
      "source": "catNames = []\nwhile True:\n    print('Enter the name of cat ' + str(len(catNames) + 1) +' (Or enter nothing to stop.):')\n    i = input()\n    if i == '':\n        break\n    catNames = catNames + [i] # list concatenation\nprint('The cat names are:')\nfor i in catNames:\n    print(' ' + i)",
      "execution_count": null,
      "outputs": []
    },
    {
      "metadata": {
        "trusted": true
      },
      "cell_type": "code",
      "source": "spam[0:-1]",
      "execution_count": null,
      "outputs": []
    },
    {
      "metadata": {
        "trusted": true
      },
      "cell_type": "code",
      "source": "can = [10]",
      "execution_count": null,
      "outputs": []
    },
    {
      "metadata": {
        "trusted": true
      },
      "cell_type": "code",
      "source": "can=can+['cat']",
      "execution_count": null,
      "outputs": []
    },
    {
      "metadata": {
        "trusted": true
      },
      "cell_type": "code",
      "source": "can",
      "execution_count": null,
      "outputs": []
    },
    {
      "metadata": {
        "trusted": true
      },
      "cell_type": "code",
      "source": "can=[]\nwhile(True):\n    a=input()\n    if(a==\"\"):\n        break\n    else:    \n        can=can+[a]\nfor i in can:\n    print(''+i)\n",
      "execution_count": null,
      "outputs": []
    },
    {
      "metadata": {
        "trusted": true
      },
      "cell_type": "code",
      "source": "import copy\nspam=copy.copy(can)\nspam.sort()\nprint(spam)",
      "execution_count": null,
      "outputs": []
    },
    {
      "metadata": {
        "trusted": true
      },
      "cell_type": "code",
      "source": "spam.append('gau')",
      "execution_count": null,
      "outputs": []
    },
    {
      "metadata": {
        "trusted": true
      },
      "cell_type": "code",
      "source": "spam[1]='egg'",
      "execution_count": null,
      "outputs": []
    },
    {
      "metadata": {
        "trusted": true
      },
      "cell_type": "code",
      "source": "can=[2,4,6,8,10]",
      "execution_count": null,
      "outputs": []
    },
    {
      "metadata": {
        "trusted": true
      },
      "cell_type": "code",
      "source": "can.insert(2,'hello')",
      "execution_count": null,
      "outputs": []
    },
    {
      "metadata": {
        "trusted": true
      },
      "cell_type": "code",
      "source": "can",
      "execution_count": null,
      "outputs": []
    },
    {
      "metadata": {
        "trusted": true
      },
      "cell_type": "code",
      "source": "dam=['a','b','c','d']",
      "execution_count": null,
      "outputs": []
    },
    {
      "metadata": {
        "trusted": true
      },
      "cell_type": "code",
      "source": "int('6'*5)",
      "execution_count": null,
      "outputs": []
    },
    {
      "metadata": {
        "trusted": true
      },
      "cell_type": "code",
      "source": "dam[int(int('3' * 2) / 11)]",
      "execution_count": null,
      "outputs": []
    },
    {
      "metadata": {
        "trusted": true
      },
      "cell_type": "code",
      "source": "dam[-1]",
      "execution_count": null,
      "outputs": []
    },
    {
      "metadata": {
        "trusted": true
      },
      "cell_type": "code",
      "source": "dam[:2]",
      "execution_count": null,
      "outputs": []
    },
    {
      "metadata": {
        "trusted": true
      },
      "cell_type": "code",
      "source": "pat=[3.14,'cat', 11, 'cat', True]",
      "execution_count": null,
      "outputs": []
    },
    {
      "metadata": {
        "trusted": true
      },
      "cell_type": "code",
      "source": "pat.index('cat')",
      "execution_count": null,
      "outputs": []
    },
    {
      "metadata": {
        "trusted": true
      },
      "cell_type": "code",
      "source": "pat.append('99')",
      "execution_count": null,
      "outputs": []
    },
    {
      "metadata": {
        "trusted": true
      },
      "cell_type": "code",
      "source": "pat",
      "execution_count": null,
      "outputs": []
    },
    {
      "metadata": {
        "trusted": true
      },
      "cell_type": "code",
      "source": "pat.remove('cat')\npat",
      "execution_count": null,
      "outputs": []
    },
    {
      "metadata": {
        "trusted": true
      },
      "cell_type": "code",
      "source": "pat.insert(1,'cat')",
      "execution_count": null,
      "outputs": []
    },
    {
      "metadata": {
        "trusted": true
      },
      "cell_type": "code",
      "source": "pat\n",
      "execution_count": null,
      "outputs": []
    },
    {
      "metadata": {
        "trusted": true
      },
      "cell_type": "code",
      "source": "pat.delete('cat')\npat",
      "execution_count": null,
      "outputs": []
    },
    {
      "metadata": {
        "trusted": true
      },
      "cell_type": "code",
      "source": "sam=pat+dam",
      "execution_count": null,
      "outputs": []
    },
    {
      "metadata": {
        "trusted": true
      },
      "cell_type": "code",
      "source": "sam*2",
      "execution_count": null,
      "outputs": []
    },
    {
      "metadata": {
        "trusted": true
      },
      "cell_type": "code",
      "source": "del pat[2]\npat",
      "execution_count": null,
      "outputs": []
    },
    {
      "metadata": {
        "trusted": true
      },
      "cell_type": "code",
      "source": "sam=('head',)",
      "execution_count": null,
      "outputs": []
    },
    {
      "metadata": {
        "trusted": true,
        "scrolled": true
      },
      "cell_type": "code",
      "source": "sam.append('arm')",
      "execution_count": null,
      "outputs": []
    },
    {
      "metadata": {
        "trusted": true
      },
      "cell_type": "code",
      "source": "def tom(spam):\n    \n    a=len(spam)\n    for i in spam:\n        if(spam.index(i) == (a-1)):\n            print(\"and\" ,end=\" \")\n            print(\"\"+i)\n        else:\n            print(i+\", \", end=\"\")\nspam=[]\nwhile(True):\n    mam=input()\n    if(mam==''):\n        break\n    else:\n        spam=spam+[mam]\ntom(spam)            \n    \n    ",
      "execution_count": null,
      "outputs": []
    },
    {
      "metadata": {
        "trusted": true
      },
      "cell_type": "code",
      "source": "def tom(cat):\n    tan=[]\n    b=len(spam)\n    a=len(spam)-1\n    tan=spam[:a]\n    tan.append('and')\n    for i in tan:\n        print( i + ' ', end=\" \")\n    print(' '+ cat[b-1])\n\nspam=[]\nwhile(True):\n    mam=input()\n    if(mam==''):\n        break\n    else:\n        spam=spam+[mam]\ntom(spam)            \n    ",
      "execution_count": null,
      "outputs": []
    },
    {
      "metadata": {
        "trusted": true
      },
      "cell_type": "code",
      "source": "for i in dam:\n    print(\"\"+str(dam.index(i))+i)",
      "execution_count": null,
      "outputs": []
    },
    {
      "metadata": {
        "trusted": true
      },
      "cell_type": "code",
      "source": "grid = [['.', '.', '.', '.', '.', '.'],\n['.', 'O', 'O', '.', '.', '.'],\n['O', 'O', 'O', 'O', '.', '.'],\n['O', 'O', 'O', 'O', 'O', '.'],\n['.', 'O', 'O', 'O', 'O', 'O'],\n['O', 'O', 'O', 'O', 'O', '.'],\n['O', 'O', 'O', 'O', '.', '.'],\n['.', 'O', 'O', '.', '.', '.'],\n['.', '.', '.', '.', '.', '.']]\n",
      "execution_count": 2,
      "outputs": []
    },
    {
      "metadata": {
        "trusted": true
      },
      "cell_type": "code",
      "source": "for i in range(len(grid)-3):\n    for j in range(len(grid)):\n            #car=grid[grid.index(j)][grid.index(i)]\n            print(\" \" + grid[j][i] , end=\"\")\n    print(\" \")#+ str(grid.index(i)))",
      "execution_count": 4,
      "outputs": [
        {
          "output_type": "stream",
          "text": " . . O O . O O . . \n . O O O O O O O . \n . O O O O O O O . \n . . O O O O O . . \n . . . O O O . . . \n . . . . O . . . . \n",
          "name": "stdout"
        }
      ]
    },
    {
      "metadata": {
        "trusted": true
      },
      "cell_type": "code",
      "source": "supplies = ['pens', 'staplers', 'flame-throwers', 'binders',['1','2','3','4']]\nfor i in range(len(supplies)):\n    print('Index ' + str(i) + ' in supplies is: ' + str(supplies.index(i) ))",
      "execution_count": 24,
      "outputs": [
        {
          "output_type": "error",
          "ename": "ValueError",
          "evalue": "0 is not in list",
          "traceback": [
            "\u001b[0;31m---------------------------------------------------------------------------\u001b[0m",
            "\u001b[0;31mValueError\u001b[0m                                Traceback (most recent call last)",
            "\u001b[0;32m<ipython-input-24-3ec35f1d6dce>\u001b[0m in \u001b[0;36m<module>\u001b[0;34m\u001b[0m\n\u001b[1;32m      1\u001b[0m \u001b[0msupplies\u001b[0m \u001b[0;34m=\u001b[0m \u001b[0;34m[\u001b[0m\u001b[0;34m'pens'\u001b[0m\u001b[0;34m,\u001b[0m \u001b[0;34m'staplers'\u001b[0m\u001b[0;34m,\u001b[0m \u001b[0;34m'flame-throwers'\u001b[0m\u001b[0;34m,\u001b[0m \u001b[0;34m'binders'\u001b[0m\u001b[0;34m,\u001b[0m\u001b[0;34m[\u001b[0m\u001b[0;34m'1'\u001b[0m\u001b[0;34m,\u001b[0m\u001b[0;34m'2'\u001b[0m\u001b[0;34m,\u001b[0m\u001b[0;34m'3'\u001b[0m\u001b[0;34m,\u001b[0m\u001b[0;34m'4'\u001b[0m\u001b[0;34m]\u001b[0m\u001b[0;34m]\u001b[0m\u001b[0;34m\u001b[0m\u001b[0m\n\u001b[1;32m      2\u001b[0m \u001b[0;32mfor\u001b[0m \u001b[0mi\u001b[0m \u001b[0;32min\u001b[0m \u001b[0mrange\u001b[0m\u001b[0;34m(\u001b[0m\u001b[0mlen\u001b[0m\u001b[0;34m(\u001b[0m\u001b[0msupplies\u001b[0m\u001b[0;34m)\u001b[0m\u001b[0;34m)\u001b[0m\u001b[0;34m:\u001b[0m\u001b[0;34m\u001b[0m\u001b[0m\n\u001b[0;32m----> 3\u001b[0;31m     \u001b[0mprint\u001b[0m\u001b[0;34m(\u001b[0m\u001b[0;34m'Index '\u001b[0m \u001b[0;34m+\u001b[0m \u001b[0mstr\u001b[0m\u001b[0;34m(\u001b[0m\u001b[0mi\u001b[0m\u001b[0;34m)\u001b[0m \u001b[0;34m+\u001b[0m \u001b[0;34m' in supplies is: '\u001b[0m \u001b[0;34m+\u001b[0m \u001b[0mstr\u001b[0m\u001b[0;34m(\u001b[0m\u001b[0msupplies\u001b[0m\u001b[0;34m.\u001b[0m\u001b[0mindex\u001b[0m\u001b[0;34m(\u001b[0m\u001b[0mi\u001b[0m\u001b[0;34m)\u001b[0m \u001b[0;34m)\u001b[0m\u001b[0;34m)\u001b[0m\u001b[0;34m\u001b[0m\u001b[0m\n\u001b[0m",
            "\u001b[0;31mValueError\u001b[0m: 0 is not in list"
          ]
        }
      ]
    },
    {
      "metadata": {
        "trusted": true
      },
      "cell_type": "code",
      "source": "supplies = ['pens', 'staplers', 'flame-throwers', 'binders',['1','2','3','4']]\nprint(\"\"+ str(supplies.index(0)))\n",
      "execution_count": 7,
      "outputs": [
        {
          "output_type": "error",
          "ename": "ValueError",
          "evalue": "0 is not in list",
          "traceback": [
            "\u001b[0;31m---------------------------------------------------------------------------\u001b[0m",
            "\u001b[0;31mValueError\u001b[0m                                Traceback (most recent call last)",
            "\u001b[0;32m<ipython-input-7-ab192a52e064>\u001b[0m in \u001b[0;36m<module>\u001b[0;34m\u001b[0m\n\u001b[1;32m      1\u001b[0m \u001b[0msupplies\u001b[0m \u001b[0;34m=\u001b[0m \u001b[0;34m[\u001b[0m\u001b[0;34m'pens'\u001b[0m\u001b[0;34m,\u001b[0m \u001b[0;34m'staplers'\u001b[0m\u001b[0;34m,\u001b[0m \u001b[0;34m'flame-throwers'\u001b[0m\u001b[0;34m,\u001b[0m \u001b[0;34m'binders'\u001b[0m\u001b[0;34m,\u001b[0m\u001b[0;34m[\u001b[0m\u001b[0;34m'1'\u001b[0m\u001b[0;34m,\u001b[0m\u001b[0;34m'2'\u001b[0m\u001b[0;34m,\u001b[0m\u001b[0;34m'3'\u001b[0m\u001b[0;34m,\u001b[0m\u001b[0;34m'4'\u001b[0m\u001b[0;34m]\u001b[0m\u001b[0;34m]\u001b[0m\u001b[0;34m\u001b[0m\u001b[0m\n\u001b[0;32m----> 2\u001b[0;31m \u001b[0mprint\u001b[0m\u001b[0;34m(\u001b[0m\u001b[0;34m\"\"\u001b[0m\u001b[0;34m+\u001b[0m \u001b[0mstr\u001b[0m\u001b[0;34m(\u001b[0m\u001b[0msupplies\u001b[0m\u001b[0;34m.\u001b[0m\u001b[0mindex\u001b[0m\u001b[0;34m(\u001b[0m\u001b[0;36m0\u001b[0m\u001b[0;34m)\u001b[0m\u001b[0;34m)\u001b[0m\u001b[0;34m)\u001b[0m\u001b[0;34m\u001b[0m\u001b[0m\n\u001b[0m",
            "\u001b[0;31mValueError\u001b[0m: 0 is not in list"
          ]
        }
      ]
    },
    {
      "metadata": {
        "trusted": true
      },
      "cell_type": "code",
      "source": "for i in grid:\n    for j in grid:\n        #car=grid[grid.index(j)][grid.index(i)]\n        print(\" \" + str(grid.index(j))+str(grid.index(i)) , end=\"\")\n    print(\"\")",
      "execution_count": 16,
      "outputs": [
        {
          "output_type": "stream",
          "text": " 00 10 20 30 40 30 20 10 00\n 01 11 21 31 41 31 21 11 01\n 02 12 22 32 42 32 22 12 02\n 03 13 23 33 43 33 23 13 03\n 04 14 24 34 44 34 24 14 04\n 03 13 23 33 43 33 23 13 03\n 02 12 22 32 42 32 22 12 02\n 01 11 21 31 41 31 21 11 01\n 00 10 20 30 40 30 20 10 00\n",
          "name": "stdout"
        }
      ]
    },
    {
      "metadata": {
        "trusted": true
      },
      "cell_type": "code",
      "source": "can = [['.', '.', '.', '.', '.', '.'],\n['.', 'O', 'O', '.', '.', '.'],\n['O', 'O', 'O', 'O', '.', '.'],\n['O', 'O', 'O', 'O', 'O', '.'],\n['.', 'O', 'O', 'O', 'O', 'O'],\n['O', 'O', '.', 'O', 'O', '.'],\n['O', '.', '.', 'O', '.', '.'],\n['.', '', 'O', '.', '.', '.'],\n['.', '.', '0', '.', '.', '0']]",
      "execution_count": 20,
      "outputs": []
    },
    {
      "metadata": {
        "trusted": true
      },
      "cell_type": "code",
      "source": "for i in can:\n    for j in can:\n        #car=grid[grid.index(j)][grid.index(i)]\n        print(\" \" + str(can.index(j))+str(can.index(i)) , end=\"\")\n    print(\"\")",
      "execution_count": 21,
      "outputs": [
        {
          "output_type": "stream",
          "text": " 00 10 20 30 40 50 60 70 80\n 01 11 21 31 41 51 61 71 81\n 02 12 22 32 42 52 62 72 82\n 03 13 23 33 43 53 63 73 83\n 04 14 24 34 44 54 64 74 84\n 05 15 25 35 45 55 65 75 85\n 06 16 26 36 46 56 66 76 86\n 07 17 27 37 47 57 67 77 87\n 08 18 28 38 48 58 68 78 88\n",
          "name": "stdout"
        }
      ]
    },
    {
      "metadata": {
        "trusted": true
      },
      "cell_type": "code",
      "source": "for i in grid:\n    print(\"\" + str(i))",
      "execution_count": 18,
      "outputs": [
        {
          "output_type": "stream",
          "text": "['.', '.', '.', '.', '.', '.']\n['.', 'O', 'O', '.', '.', '.']\n['O', 'O', 'O', 'O', '.', '.']\n['O', 'O', 'O', 'O', 'O', '.']\n['.', 'O', 'O', 'O', 'O', 'O']\n['O', 'O', 'O', 'O', 'O', '.']\n['O', 'O', 'O', 'O', '.', '.']\n['.', 'O', 'O', '.', '.', '.']\n['.', '.', '.', '.', '.', '.']\n",
          "name": "stdout"
        }
      ]
    },
    {
      "metadata": {
        "trusted": true
      },
      "cell_type": "code",
      "source": "",
      "execution_count": null,
      "outputs": []
    }
  ],
  "metadata": {
    "kernelspec": {
      "name": "python36",
      "display_name": "Python 3.6",
      "language": "python"
    },
    "language_info": {
      "mimetype": "text/x-python",
      "nbconvert_exporter": "python",
      "name": "python",
      "pygments_lexer": "ipython3",
      "version": "3.6.6",
      "file_extension": ".py",
      "codemirror_mode": {
        "version": 3,
        "name": "ipython"
      }
    }
  },
  "nbformat": 4,
  "nbformat_minor": 1
}