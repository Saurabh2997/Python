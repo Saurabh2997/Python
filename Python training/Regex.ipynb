{
  "cells": [
    {
      "metadata": {
        "trusted": true
      },
      "cell_type": "code",
      "source": "",
      "execution_count": null,
      "outputs": []
    },
    {
      "metadata": {
        "trusted": true
      },
      "cell_type": "code",
      "source": "def finder(text):   \n    if text[3] != '-':\n        return False\n    if text[7] != '-':\n        return False\n    for i in text:\n        if i is text.isalpha():\n            return False\n    return True\n\nfinder('124-457-1234')\nprint('masii masii')\n#finder('masii masii')\n    \n    \n    ",
      "execution_count": 5,
      "outputs": [
        {
          "output_type": "stream",
          "text": "masii masii\n",
          "name": "stdout"
        }
      ]
    },
    {
      "metadata": {
        "trusted": true
      },
      "cell_type": "code",
      "source": "def isPhoneNumber(text):\n    if len(text) != 12:\n        return False\n    for i in range(0, 3):\n        if not text[i].isdecimal():\n            return False\n    if text[3] != '-':\n        return False\n    for i in range(4, 7):\n        if not text[i].isdecimal():\n            return False\n    if text[7] != '-':\n            return False\n    for i in range(8, 12):\n        if not text[i].isdecimal():\n            return False\n    return True\n\n\nprint('415-555-4242 is a phone number:')\nprint(isPhoneNumber('415-555-4242'))\nprint('Moshi moshi is a phone number:')\nprint(isPhoneNumber('Moshi moshi'))",
      "execution_count": 1,
      "outputs": [
        {
          "output_type": "stream",
          "text": "415-555-4242 is a phone number:\nTrue\nMoshi moshi is a phone number:\nFalse\n",
          "name": "stdout"
        }
      ]
    },
    {
      "metadata": {
        "trusted": true
      },
      "cell_type": "code",
      "source": "u=input()\nfor i in range(len(u)):\n    cas=u[i:i+12]\n    if isPhoneNumber(cas):\n        print('the phone number is:'+cas)\nprint('Done')\n",
      "execution_count": 2,
      "outputs": [
        {
          "output_type": "stream",
          "name": "stdout",
          "text": "132-457-7941 isd erwhfd nsad. 123-674-3455 idsf eaf.\nthe phone number is:132-457-7941\nthe phone number is:123-674-3455\nDone\n"
        }
      ]
    },
    {
      "metadata": {
        "trusted": true
      },
      "cell_type": "code",
      "source": "import re\n\nd=input('Enter the number')\nfind=re.compile(r'\\d\\d\\d-\\d\\d\\d-\\d\\d\\d\\d')\nob = find.search(d)\nprint('The no. is:'+ ob.group())\n\n",
      "execution_count": 4,
      "outputs": [
        {
          "output_type": "stream",
          "name": "stdout",
          "text": "Enter the number123-435-1233sdaf dsfafasd asfd\nThe no. is:123-435-1233\n"
        }
      ]
    },
    {
      "metadata": {
        "trusted": true
      },
      "cell_type": "code",
      "source": "import re\n\nn=input()\npattrn=re.compile(r'saurabh')\npattrn.findall(n)\n\n\n",
      "execution_count": 3,
      "outputs": [
        {
          "output_type": "stream",
          "name": "stdout",
          "text": "saurabh yasd studeny\n"
        },
        {
          "output_type": "execute_result",
          "execution_count": 3,
          "data": {
            "text/plain": "['saurabh']"
          },
          "metadata": {}
        }
      ]
    },
    {
      "metadata": {
        "trusted": true
      },
      "cell_type": "code",
      "source": " import re\n\ns=input()\n\npatrn=re.compile(r'\\d{3}\\D')\nprint(patrn.findall(s) == None)\npatrn.findall(s)\n",
      "execution_count": 52,
      "outputs": [
        {
          "output_type": "stream",
          "name": "stdout",
          "text": "ant,pan,can,eat\nFalse\n"
        },
        {
          "output_type": "execute_result",
          "execution_count": 52,
          "data": {
            "text/plain": "[]"
          },
          "metadata": {}
        }
      ]
    },
    {
      "metadata": {
        "trusted": true
      },
      "cell_type": "code",
      "source": "import re\np=input()\n\npatrn=re.compile(r'\\w+[aeiou]+\\w+')\npatrn.findall(p)\n                ",
      "execution_count": 54,
      "outputs": [
        {
          "output_type": "stream",
          "name": "stdout",
          "text": "ant,box,pll,fan\n"
        },
        {
          "output_type": "execute_result",
          "execution_count": 54,
          "data": {
            "text/plain": "['box', 'fan']"
          },
          "metadata": {}
        }
      ]
    },
    {
      "metadata": {
        "trusted": true
      },
      "cell_type": "code",
      "source": "import re\nf=input()\npatrn=re.compile(r'.[aeiou]')\npatrn.findall(f)\n\n\n\n",
      "execution_count": 55,
      "outputs": [
        {
          "output_type": "stream",
          "name": "stdout",
          "text": "mat,ant,pan,can,eat\n"
        },
        {
          "output_type": "execute_result",
          "execution_count": 55,
          "data": {
            "text/plain": "['ma', ',a', 'pa', 'ca', ',e']"
          },
          "metadata": {}
        }
      ]
    },
    {
      "metadata": {
        "trusted": true
      },
      "cell_type": "code",
      "source": "import re\n\ng=input()\npattrn=re.compile(r'^[0-9]')\npattrn.search(g)\n\n",
      "execution_count": 8,
      "outputs": [
        {
          "output_type": "stream",
          "name": "stdout",
          "text": "12Ssd\n"
        },
        {
          "output_type": "execute_result",
          "execution_count": 8,
          "data": {
            "text/plain": "<_sre.SRE_Match object; span=(0, 1), match='1'>"
          },
          "metadata": {}
        }
      ]
    },
    {
      "metadata": {
        "trusted": true
      },
      "cell_type": "code",
      "source": "",
      "execution_count": null,
      "outputs": []
    },
    {
      "metadata": {
        "trusted": true
      },
      "cell_type": "code",
      "source": "import re\nb=input()\npattrn=re.compile(r'bat(wo)*')\nma=pattrn.search(b)\nma.group() \n\n\n# \"\"\"\n# the adventure of batwowowowow\n# batwowowowo\n# \"\"\"\n\n",
      "execution_count": 12,
      "outputs": [
        {
          "output_type": "stream",
          "name": "stdout",
          "text": "batwowoooooowowowow\n"
        },
        {
          "output_type": "execute_result",
          "execution_count": 12,
          "data": {
            "text/plain": "'batwowo'"
          },
          "metadata": {}
        }
      ]
    },
    {
      "metadata": {
        "trusted": true
      },
      "cell_type": "code",
      "source": "import re\n\nj = input()\npattrn = re.compile(r'(superman)? batman')\n# ma=pattrn.search(j)\nba1 = pattrn.search(j)\nba1.group()\n\n\n\n\n\n",
      "execution_count": 23,
      "outputs": [
        {
          "output_type": "stream",
          "name": "stdout",
          "text": "superman batman sadasrdda asf\n"
        },
        {
          "output_type": "execute_result",
          "execution_count": 23,
          "data": {
            "text/plain": "'superman batman'"
          },
          "metadata": {}
        }
      ]
    },
    {
      "metadata": {
        "trusted": true
      },
      "cell_type": "code",
      "source": "import re\n\nh=input()\npattrn=re.compile(r'(fruit|vegetabale|meat|dairy)')\nbs=pattrn.search(h)\nbs.group()\n",
      "execution_count": 2,
      "outputs": [
        {
          "output_type": "stream",
          "name": "stdout",
          "text": "meat is good for health\n"
        },
        {
          "output_type": "execute_result",
          "execution_count": 2,
          "data": {
            "text/plain": "'meat'"
          },
          "metadata": {}
        }
      ]
    },
    {
      "metadata": {
        "trusted": true
      },
      "cell_type": "code",
      "source": "import re\n\ng=input()\npattrn=re.compile(r'..at')\npattrn.findall(g)\n\n",
      "execution_count": 5,
      "outputs": [
        {
          "output_type": "stream",
          "name": "stdout",
          "text": "at haat cat mat ppat sat that\n"
        },
        {
          "output_type": "execute_result",
          "execution_count": 5,
          "data": {
            "text/plain": "['haat', ' cat', ' mat', 'ppat', ' sat', 'that']"
          },
          "metadata": {}
        }
      ]
    },
    {
      "metadata": {
        "trusted": true
      },
      "cell_type": "code",
      "source": "import re\n\nmatch=[]\ng = input('Enter the new password')\npattrn=re.compile(r'[A-Za-z0-9]+')\npattrn.findall(g)\nfor y in pattrn.findall(g):\n    print(y)\n    if len(y)<8:\n        print('password shuld be more than 8 charachter')\n        break\n    if y.isupper():\n        print('must have lower')\n        break\n    if y.islower():\n        print('must have upper')\n        break\n    match.append(groups)\n    \nprint(match)\n\n\n\n\n",
      "execution_count": 11,
      "outputs": [
        {
          "output_type": "stream",
          "name": "stdout",
          "text": "Enter the new passwordsau\nsau\npassword shuld be more than 8 charachter\n[]\n"
        }
      ]
    },
    {
      "metadata": {
        "trusted": true
      },
      "cell_type": "code",
      "source": "import re\n\ndef passwrd(text):\n    pattrn1=re.compile('[a-z]+')\n    pattrn2=re.compile('[A-Z]+')\n    pattrn3=re.compile('[\\d]+')\n    pattrn1.findall(text)\n    pattrn2.findall(text)\n    pattrn3.findall(text)\n    \n    \n    #print('password is strong')\n    \n    \ng=input('Enter the password: ')\npasswrd(g)\n\n\n",
      "execution_count": 2,
      "outputs": [
        {
          "output_type": "stream",
          "name": "stdout",
          "text": "Enter the password: Saurabh007\n"
        }
      ]
    },
    {
      "metadata": {
        "trusted": true
      },
      "cell_type": "code",
      "source": "chat= map(min,[3,6,1])\nprint(list(chat))\n#print(''+str(chat))\n#for i in chat:\n#    print(str(i))",
      "execution_count": null,
      "outputs": []
    },
    {
      "metadata": {
        "trusted": true
      },
      "cell_type": "code",
      "source": " type(lambda x: x+1)\n    ",
      "execution_count": 1,
      "outputs": [
        {
          "output_type": "execute_result",
          "execution_count": 1,
          "data": {
            "text/plain": "function"
          },
          "metadata": {}
        }
      ]
    },
    {
      "metadata": {
        "trusted": true
      },
      "cell_type": "code",
      "source": "import numpy as np\nnp.array()",
      "execution_count": null,
      "outputs": []
    },
    {
      "metadata": {
        "trusted": true
      },
      "cell_type": "code",
      "source": "",
      "execution_count": null,
      "outputs": []
    },
    {
      "metadata": {
        "trusted": true
      },
      "cell_type": "code",
      "source": "",
      "execution_count": null,
      "outputs": []
    },
    {
      "metadata": {
        "trusted": true
      },
      "cell_type": "code",
      "source": "",
      "execution_count": null,
      "outputs": []
    },
    {
      "metadata": {
        "trusted": true
      },
      "cell_type": "code",
      "source": "\n",
      "execution_count": null,
      "outputs": []
    }
  ],
  "metadata": {
    "kernelspec": {
      "name": "python36",
      "display_name": "Python 3.6",
      "language": "python"
    },
    "language_info": {
      "mimetype": "text/x-python",
      "nbconvert_exporter": "python",
      "name": "python",
      "pygments_lexer": "ipython3",
      "version": "3.6.6",
      "file_extension": ".py",
      "codemirror_mode": {
        "version": 3,
        "name": "ipython"
      }
    }
  },
  "nbformat": 4,
  "nbformat_minor": 2
}