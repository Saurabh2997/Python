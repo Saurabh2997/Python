{
  "cells": [
    {
      "metadata": {
        "trusted": true
      },
      "cell_type": "code",
      "source": "tableData = [['apples', 'oranges', 'cherries', 'banana'],\n['Alice', 'Bob', 'Carol', 'David'],\n['dogs', 'cats', 'moose', 'goose']]\nprint(len(tableData))\ncolwid=[]\nb=0\nfor i in tableData:\n    #print(i)\n    a=0\n    for j in i:\n        #print(j)\n        if a <= len(j):\n            #print(len(j))\n            a=len(j)\n    colwid.insert(b,a)\n    b=+1            \n#print(colwid)\nfor p in range(len(tableData)+1):\n    for q in range((len(tableData))):\n        print(tableData[q][p].rjust(colwid[q]), end =\" \" )   \n    print('')\n    \n        \n        \n    \n        ",
      "execution_count": null,
      "outputs": []
    },
    {
      "metadata": {
        "trusted": true
      },
      "cell_type": "code",
      "source": "tableData = [['apples', 'oranges', 'cherries', 'banana'],\n             ['Alice', 'Bob', 'Carol', 'David'],\n             ['dogs', 'cats', 'moose', 'goose']]\n\ndef printTable(table):\n    # create a new list of 3 \"0\" values: one for each list in tableData\n    colWidths = [0] * len(table)\n    # search for the longest string in each list of tableData\n    # and put the numbers of characters in the new list\n    for y in range(len(table)):\n        for x in table[y]:\n            if colWidths[y] < len(x):\n                colWidths[y] = len(x)\n    print(colWidths)\n\n    # \"rotate\" and print the list of lists\n    for x in range(len(table[0])) :\n        for y in range(len(table)) :\n            print(table[y][x].rjust(colWidths[y]), end = ' ')\n        print()\n        x += 1\n\nprintTable(tableData)",
      "execution_count": null,
      "outputs": []
    },
    {
      "metadata": {},
      "cell_type": "markdown",
      "source": " Write a Python program to count the number of characters (character frequency) in a string."
    },
    {
      "metadata": {
        "trusted": true
      },
      "cell_type": "code",
      "source": "spam=input()\nman={}\n\nfor i in spam:\n    key=i\n    if i not in man:\n        man[key]=1  \n    else:\n        \n        man[i]= man[i] + 1   \nprint(man)\n\n\n",
      "execution_count": null,
      "outputs": []
    },
    {
      "metadata": {
        "trusted": true
      },
      "cell_type": "markdown",
      "source": "Write a Python program to get a string made of the first 2 and the last 2 chars from a given a string. If the string length is less than 2, return instead of the empty string."
    },
    {
      "metadata": {
        "trusted": true
      },
      "cell_type": "code",
      "source": "rat=input()\nlis=[]\nif len(rat)>2:\n    for j in range(0,2):\n        \n        lis.insert(j, rat[j])    #str[0:2] + str[-2:]\n    \n    lis.append(rat[-2])   \n    lis.append(rat[-1])\n    \n    print(lis)\nelse:\n    print('Empty string')\n    \n    ",
      "execution_count": null,
      "outputs": []
    },
    {
      "metadata": {},
      "cell_type": "markdown",
      "source": "Write a Python program to get a string from a given string where all occurrences of its first char have been changed to '$', except the first char itself."
    },
    {
      "metadata": {
        "trusted": true
      },
      "cell_type": "code",
      "source": "ran=input()\non=ran[0]\npa=[]\npa= pa + [on]\nt=1\nfor i in ran[1:]:\n    if i==on:\n        pa.insert(t,'$')\n    else:\n        pa.append(i)\n    t=t+1\n    \nsat=' '.join(pa)\nprint(sat)\n    ",
      "execution_count": null,
      "outputs": []
    },
    {
      "metadata": {
        "trusted": true
      },
      "cell_type": "code",
      "source": "def change_char(str1):\n    char = str1[0]\n    str1 = str1.replace(char, '$')\n    str1 = char + str1[1:]\n    return str1\n\nprint(change_char('restart'))",
      "execution_count": null,
      "outputs": []
    },
    {
      "metadata": {},
      "cell_type": "markdown",
      "source": "Write a Python program to get a single string from two given strings, separated by a space and swap the first two characters of each string. Go to the editor\nSample String : 'abc', 'xyz'\nExpected Result : 'xyc abz'"
    },
    {
      "metadata": {
        "trusted": true
      },
      "cell_type": "code",
      "source": "print('Enter !st string')\ntoy=input()\nprint('Enter 2nd string')\nboy=input()\ntar=boy[0]+toy[1:]\npar=toy[0]+boy[1:]\nprint(tar+' '+par)\n",
      "execution_count": null,
      "outputs": []
    },
    {
      "metadata": {
        "trusted": true
      },
      "cell_type": "code",
      "source": "def chars_mix_up(a, b):\n    new_a = b[:2] + a[2:]\n    new_b = a[:2] + b[2:]\n\n    return new_a + ' ' + new_b\nprint(chars_mix_up('abc', 'xyz'))",
      "execution_count": null,
      "outputs": []
    },
    {
      "metadata": {},
      "cell_type": "markdown",
      "source": " Write a Python program to add 'ing' at the end of a given string (length should be at least 3). If the given string already ends with 'ing' then add 'ly' instead. If the string length of the given string is less than 3, leave it unchanged."
    },
    {
      "metadata": {
        "trusted": true
      },
      "cell_type": "code",
      "source": "drop=input()\na='ing'\nb=drop[-3:]\nif len(drop)>3:\n    if a==b:\n        new=drop[0:]+'ly'\n        print(new)\n    else:\n        new=drop[0:]+'ing'\n        print(new)\nelse:\n    print(drop)\n\n",
      "execution_count": null,
      "outputs": []
    },
    {
      "metadata": {},
      "cell_type": "markdown",
      "source": "Write a Python program to find the first appearance of the substring 'not' and 'poor' from a given string, if 'not' follows the 'poor', replace the whole 'not'...'poor' substring with 'good'. Return the resulting string"
    },
    {
      "metadata": {
        "trusted": true
      },
      "cell_type": "code",
      "source": "\n\n\n\n\n\n\n",
      "execution_count": null,
      "outputs": []
    },
    {
      "metadata": {
        "trusted": true
      },
      "cell_type": "markdown",
      "source": "Write a Python function that takes a list of words and returns the length of the longest one"
    },
    {
      "metadata": {
        "trusted": true
      },
      "cell_type": "code",
      "source": "ato=input()\nwas=[0]\nd=0\nj=0\nfor i in ato:\n    if i==\" \":\n        was=was+[j]\n    elif i==\".\":\n        was=was+[j]\n    j=j+1\nfor i in range(len(was)):\n    a=was[i]\n    if i == (len(was)-1):\n        break\n    else:\n        b=was[i+1]\n    if a==0:\n        c=b-a\n    else:\n        c=b-a-1\n    if c>=d:\n        mac=c\n        d=c\nprint('The lenght of longest word is: '+str(mac))    \n\n    \n    ",
      "execution_count": null,
      "outputs": []
    },
    {
      "metadata": {
        "trusted": true
      },
      "cell_type": "markdown",
      "source": "Write a Python program to remove the nth index character from a nonempty string\n"
    },
    {
      "metadata": {
        "trusted": true
      },
      "cell_type": "code",
      "source": "pot=input()\nprint('Enter the index to remove the string')\ncat=input()\np=int(cat)\nsa=pot[:p]+pot[p+1:] \nprint(sa)\n\n",
      "execution_count": 2,
      "outputs": [
        {
          "output_type": "stream",
          "name": "stdout",
          "text": "hello to the\nEnter the index to remove the string\n3\nhelo to the\n"
        }
      ]
    },
    {
      "metadata": {
        "trusted": true
      },
      "cell_type": "markdown",
      "source": "Write a Python program to change a given string to a new string where the first and last chars have been exchanged."
    },
    {
      "metadata": {
        "trusted": true
      },
      "cell_type": "code",
      "source": "haer=input()\npos=haer[-1]+haer[1:-1]+haer[0]\nprint(pos)",
      "execution_count": 5,
      "outputs": [
        {
          "output_type": "stream",
          "name": "stdout",
          "text": "hello\noellh\n"
        }
      ]
    },
    {
      "metadata": {
        "trusted": true
      },
      "cell_type": "markdown",
      "source": " Write a Python program to remove the characters which have odd index values of a given string"
    },
    {
      "metadata": {
        "trusted": true,
        "scrolled": true
      },
      "cell_type": "code",
      "source": "sad=input()\nmar=[]                    #gat=\"\"\nfor i in range(len(sad)):\n    if i%2==0:\n        mar.append(sad[i]) #gat=gat+sad[i]\n    \n\"\".join(mar)\n        ",
      "execution_count": 16,
      "outputs": [
        {
          "output_type": "stream",
          "name": "stdout",
          "text": "hello\n"
        },
        {
          "output_type": "execute_result",
          "execution_count": 16,
          "data": {
            "text/plain": "'hlo'"
          },
          "metadata": {}
        }
      ]
    },
    {
      "metadata": {},
      "cell_type": "markdown",
      "source": " Write a Python script that takes input from the user and displays that input back in upper and lower cases."
    },
    {
      "metadata": {
        "trusted": true,
        "scrolled": true
      },
      "cell_type": "code",
      "source": "man=input()\nprint(man.lower())\nprint(man.upper())",
      "execution_count": 17,
      "outputs": [
        {
          "output_type": "stream",
          "name": "stdout",
          "text": "ToM n Jerry\ntom n jerry\nTOM N JERRY\n"
        }
      ]
    },
    {
      "metadata": {},
      "cell_type": "markdown",
      "source": "Write a Python program that accepts a comma separated sequence of words as input and prints the unique words in sorted form (alphanumerically)."
    },
    {
      "metadata": {
        "trusted": true,
        "scrolled": true
      },
      "cell_type": "code",
      "source": "hope=input()\nman=[]\nvan=hope.split(',')\nfor i in van:\n    man.append(i)\nman.sort()\nprint(','.join(man))",
      "execution_count": 26,
      "outputs": [
        {
          "output_type": "stream",
          "name": "stdout",
          "text": "mat,bat,at,sat,hat,yacht\nat,bat,hat,mat,sat,yacht\n"
        }
      ]
    },
    {
      "metadata": {},
      "cell_type": "markdown",
      "source": "Write a Python program to get the last part of a string before a specified character."
    },
    {
      "metadata": {
        "trusted": true
      },
      "cell_type": "code",
      "source": "jol=input()\nman=jol.split()\npan=''\nfor i in range((len(jol)-1),0,-1):\n    if jol[i]=='-' or jol[i]=='/' or jol[i]==\"$\":\n        print(jol[:i])\n        break   \n    pan=pan+jol[i]\n      \nprint(pan)\n\n#print(jol.rsplit('-',2))",
      "execution_count": 16,
      "outputs": [
        {
          "output_type": "stream",
          "name": "stdout",
          "text": "https://www.w3resource.com/python-exercises\nhttps://www.w3resource.com/python\nhttps://www.w3resource.com/python-exercises\nsesicrexe\n"
        }
      ]
    },
    {
      "metadata": {
        "trusted": true
      },
      "cell_type": "markdown",
      "source": "Write a Python function to reverses a string if it's length is a multiple of 4"
    },
    {
      "metadata": {
        "trusted": true
      },
      "cell_type": "code",
      "source": "res=input()\nda=\"\"\nif len(res)>= 4:\n    for i in range((len(res)-1),-1,-1):\n        da=da+res[i]\nprint(da)\n\n    ",
      "execution_count": 3,
      "outputs": [
        {
          "output_type": "stream",
          "name": "stdout",
          "text": "hello to python\nnohtyp ot olleh\n"
        }
      ]
    },
    {
      "metadata": {},
      "cell_type": "markdown",
      "source": "Write a Python program to create a Caesar encryption. "
    },
    {
      "metadata": {
        "trusted": true
      },
      "cell_type": "code",
      "source": "ug=input()\n\n\n\n\n\n\n\n\n",
      "execution_count": null,
      "outputs": []
    },
    {
      "metadata": {
        "trusted": true
      },
      "cell_type": "code",
      "source": "",
      "execution_count": null,
      "outputs": []
    },
    {
      "metadata": {
        "trusted": true
      },
      "cell_type": "code",
      "source": "",
      "execution_count": null,
      "outputs": []
    },
    {
      "metadata": {
        "trusted": true
      },
      "cell_type": "code",
      "source": "",
      "execution_count": null,
      "outputs": []
    },
    {
      "metadata": {
        "trusted": true
      },
      "cell_type": "code",
      "source": "",
      "execution_count": null,
      "outputs": []
    }
  ],
  "metadata": {
    "kernelspec": {
      "name": "python36",
      "display_name": "Python 3.6",
      "language": "python"
    },
    "language_info": {
      "mimetype": "text/x-python",
      "nbconvert_exporter": "python",
      "name": "python",
      "pygments_lexer": "ipython3",
      "version": "3.6.6",
      "file_extension": ".py",
      "codemirror_mode": {
        "version": 3,
        "name": "ipython"
      }
    }
  },
  "nbformat": 4,
  "nbformat_minor": 2
}