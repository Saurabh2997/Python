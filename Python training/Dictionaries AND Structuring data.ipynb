{
  "cells": [
    {
      "metadata": {
        "trusted": true
      },
      "cell_type": "code",
      "source": "import pprint\nmessage = 'It was a bright cold day in April, and the clocks were striking thirteen.'\ncount = {}\nfor character in message:\n    count.setdefault(character, 0)\n    count[character] = count[character] + 1\nprint(pprint.pformat(count))",
      "execution_count": 2,
      "outputs": [
        {
          "output_type": "stream",
          "text": "{' ': 13,\n ',': 1,\n '.': 1,\n 'A': 1,\n 'I': 1,\n 'a': 4,\n 'b': 1,\n 'c': 3,\n 'd': 3,\n 'e': 5,\n 'g': 2,\n 'h': 3,\n 'i': 6,\n 'k': 2,\n 'l': 3,\n 'n': 4,\n 'o': 2,\n 'p': 1,\n 'r': 5,\n 's': 3,\n 't': 6,\n 'w': 2,\n 'y': 1}\n",
          "name": "stdout"
        }
      ]
    },
    {
      "metadata": {
        "trusted": true
      },
      "cell_type": "code",
      "source": "allguest = {'saur': {'1bhk':5,'guest':10},'chin' : {'1bhk':4,'2bhk':4,'guest':12},\n            'shant': {'1bhk':2,'2bhk':5,'3bhk':6,'guest':10,'kids':4},\n            'rahu': {'4bhk':2,'guest':8,'kids':2}}\n\ndef total(guest,item):\n    sum = 0\n    for k, v in guest.items():\n        \n        sum = sum + v.get(item, 0)\n    return(sum)\n    \nprint('total guest ' + str(total(allguest,'guest')))\nprint('total kids ' + str(total(allguest,'kids')))\n    \n\n",
      "execution_count": 8,
      "outputs": [
        {
          "output_type": "stream",
          "text": "total guest 40\ntotal kids 6\n",
          "name": "stdout"
        }
      ]
    },
    {
      "metadata": {
        "trusted": true
      },
      "cell_type": "code",
      "source": "allguest = {'saur': {'1bhk':5,'guest':10},'chin' : {'1bhk':4,'2bhk':4,'guest':12},\n            'shant': {'1bhk':2,'2bhk':5,'3bhk':6,'guest':10,'kids':4},\n            'rahu': {'4bhk':2,'guest':8,'kids':2}}\n\n\ndef total(guest,item):\n    sum = 0\n    count=0\n    for k,v in guest.items():\n        print(k)\n        print(v)\n        \n        sum = sum + v.get(item, 0)\n    return(sum)\n    \nprint('total guest ' + str(total(allguest,'guest')))\nprint('total kids ' + str(total(allguest,'kids')))\n    ",
      "execution_count": 15,
      "outputs": [
        {
          "output_type": "stream",
          "text": "saur\n{'1bhk': 5, 'guest': 10}\nchin\n{'1bhk': 4, '2bhk': 4, 'guest': 12}\nshant\n{'1bhk': 2, '2bhk': 5, '3bhk': 6, 'guest': 10, 'kids': 4}\nrahu\n{'4bhk': 2, 'guest': 8, 'kids': 2}\ntotal guest 40\nsaur\n{'1bhk': 5, 'guest': 10}\nchin\n{'1bhk': 4, '2bhk': 4, 'guest': 12}\nshant\n{'1bhk': 2, '2bhk': 5, '3bhk': 6, 'guest': 10, 'kids': 4}\nrahu\n{'4bhk': 2, 'guest': 8, 'kids': 2}\ntotal kids 6\n",
          "name": "stdout"
        }
      ]
    },
    {
      "metadata": {
        "trusted": true
      },
      "cell_type": "code",
      "source": "spam ={'worm':2}",
      "execution_count": 1,
      "outputs": []
    },
    {
      "metadata": {
        "trusted": true
      },
      "cell_type": "code",
      "source": "spam['foo']",
      "execution_count": 2,
      "outputs": [
        {
          "output_type": "error",
          "ename": "KeyError",
          "evalue": "'foo'",
          "traceback": [
            "\u001b[0;31m---------------------------------------------------------------------------\u001b[0m",
            "\u001b[0;31mKeyError\u001b[0m                                  Traceback (most recent call last)",
            "\u001b[0;32m<ipython-input-2-9b5a94d1de8d>\u001b[0m in \u001b[0;36m<module>\u001b[0;34m\u001b[0m\n\u001b[0;32m----> 1\u001b[0;31m \u001b[0mspam\u001b[0m\u001b[0;34m[\u001b[0m\u001b[0;34m'foo'\u001b[0m\u001b[0;34m]\u001b[0m\u001b[0;34m\u001b[0m\u001b[0m\n\u001b[0m",
            "\u001b[0;31mKeyError\u001b[0m: 'foo'"
          ]
        }
      ]
    },
    {
      "metadata": {
        "trusted": true
      },
      "cell_type": "code",
      "source": "\nplayer={'rope': 1, 'torch': 6, 'gold coin': 42, 'dagger': 1, 'arrow': 12}\n\ndef displayInventory(dict):\n    count=0\n    print('Inventory')\n    for k, v in dict.items():\n        print('- ' + k + ': ' + str(v) )\n        count= count + v\n    print('Total items : ' + str(count))\n        \ndisplayInventory(player)\n    \n    ",
      "execution_count": 9,
      "outputs": [
        {
          "output_type": "stream",
          "text": "Inventory\n- rope: 1\n- torch: 6\n- gold coin: 42\n- dagger: 1\n- arrow: 12\nTotal items : 62\n",
          "name": "stdout"
        }
      ]
    },
    {
      "metadata": {
        "trusted": true
      },
      "cell_type": "code",
      "source": "def addToInventory(inventory, addedItems):\n    for i in addedItems:\n        if i in inventory:\n            inventory[i]+=1     #only values of 'i' keys changes\n        else:\n            inventory.setdefault(''+i,1)\n    return(inventory)\n           \n                \ndef displayInventory(dict):\n    c=0\n    print('Inventory')\n    for k, v in dict.items():\n        print('- ' + k + ': ' + str(v) )\n        c= c + v\n    print('Total items : ' + str(c))\n\n\ninv = {'gold coin': 42, 'rope': 1}\ndragonLoot = ['gold coin', 'dagger', 'gold coin', 'gold coin', 'ruby','ruby']\ninv = addToInventory(inv, dragonLoot)\ndisplayInventory(inv)",
      "execution_count": 33,
      "outputs": [
        {
          "output_type": "stream",
          "text": "Inventory\n- gold coin: 45\n- rope: 1\n- dagger: 1\n- ruby: 2\nTotal items : 49\n",
          "name": "stdout"
        }
      ]
    },
    {
      "metadata": {
        "trusted": true
      },
      "cell_type": "code",
      "source": "s = {'gold coin': 42, 'rope': 1}\np={}\np=s\nfor k,v in s.items():\n    p.setdefault('s','2')\n    count= inv.get('rope',0)\n    print(count)\n    print(v)",
      "execution_count": null,
      "outputs": []
    },
    {
      "metadata": {},
      "cell_type": "markdown",
      "source": "Write a Python script to add a key to a dictionary.\n\n\n"
    },
    {
      "metadata": {
        "trusted": true
      },
      "cell_type": "code",
      "source": "s={'0':10 , '1': 20}\nwhile True:\n    print('Enter the key name and value')\n    key = input()\n    if key in s:\n        print('key already taken')\n    else:\n        value = input()\n        s[key]=int(value)\n    print(s)\n",
      "execution_count": null,
      "outputs": [
        {
          "output_type": "stream",
          "text": "Enter the key name and value\n0\nkey already taken\n{'0': 10, '1': 20}\nEnter the key name and value\n1\nkey already taken\n{'0': 10, '1': 20}\nEnter the key name and value\n3\n40\n{'0': 10, '1': 20, '3': 40}\nEnter the key name and value\n",
          "name": "stdout"
        }
      ]
    },
    {
      "metadata": {
        "trusted": true
      },
      "cell_type": "markdown",
      "source": "Write a Python script to concatenate following dictionaries to create a new one."
    },
    {
      "metadata": {
        "trusted": true
      },
      "cell_type": "code",
      "source": "\ndic1={1:10, 2:20}\ndic2={3:30, 4:40}\ndic3={5:50,6:60}\ndic4 = {}\nfor d in (dic1, dic2, dic3):\n    dic4.update(d)                     #Used update function()\nprint(dic4)\n\n",
      "execution_count": 3,
      "outputs": [
        {
          "output_type": "stream",
          "text": "{1: 10, 2: 20, 3: 30, 4: 40, 5: 50, 6: 60}\n",
          "name": "stdout"
        }
      ]
    },
    {
      "metadata": {},
      "cell_type": "markdown",
      "source": " Write a Python script to generate and print a dictionary that contains a number (between 1 and n) in the form (x, x*x)."
    },
    {
      "metadata": {
        "trusted": true
      },
      "cell_type": "code",
      "source": "can={}\nprint(\"Enter the range:\")\na=input()\nfor i in range(int(a)):\n    key=i+1\n    value=(i+1)*(i+1)\n    can[key]=value\n    \nprint(can)",
      "execution_count": 7,
      "outputs": [
        {
          "output_type": "stream",
          "text": "Enter the range:\n4\n{1: 1, 2: 4, 3: 9, 4: 16}\n",
          "name": "stdout"
        }
      ]
    },
    {
      "metadata": {
        "trusted": true
      },
      "cell_type": "markdown",
      "source": "Write a Python program to multiply all the items in a dictionary"
    },
    {
      "metadata": {
        "trusted": true
      },
      "cell_type": "code",
      "source": "tom={'asd':20,'bcd':4,'cdf':7}\ncount=1\nfor k,v in tom.items():\n    count*=v\n    \nprint(count)",
      "execution_count": 1,
      "outputs": [
        {
          "output_type": "stream",
          "text": "560\n",
          "name": "stdout"
        }
      ]
    },
    {
      "metadata": {
        "trusted": true
      },
      "cell_type": "markdown",
      "source": " Write a Python program to remove a key from a dictionary."
    },
    {
      "metadata": {
        "trusted": true
      },
      "cell_type": "code",
      "source": "man={'a':1234,'b':456,'c':789}\nprint(man)\nprint('Enter key to del')\nout=input()\nif out in man:\n    del man[out]\nprint(man)\n    \n    \n\n\n",
      "execution_count": 47,
      "outputs": [
        {
          "output_type": "stream",
          "text": "{'a': 1234, 'b': 456, 'c': 789}\nEnter key to del\na\n{'b': 456, 'c': 789}\n",
          "name": "stdout"
        }
      ]
    },
    {
      "metadata": {},
      "cell_type": "markdown",
      "source": " Write a Python program to remove a key using value from a dictionary."
    },
    {
      "metadata": {
        "trusted": true
      },
      "cell_type": "code",
      "source": "def rem(toy):\n    del man[toy[0]]\n    \n    \nman={'a':1234,'b':456,'c':789}\nprint(man)\nprint(\"Enter value to remove from dic.\")\npoo=man.items()\nvalue=input()\ntoy=[]\nprint(type(toy))\nfor i in poo:\n    if i[1]==int(value):\n        toy.append(i[0])\n        print(type(i))\n        print(toy)\n    else:\n        continue\nrem(toy)\nprint(man)\n",
      "execution_count": 76,
      "outputs": [
        {
          "output_type": "stream",
          "text": "{'a': 1234, 'b': 456, 'c': 789}\nEnter value to remove from dic.\n1234\n<class 'list'>\n<class 'tuple'>\n['a']\n{'b': 456, 'c': 789}\n",
          "name": "stdout"
        }
      ]
    },
    {
      "metadata": {},
      "cell_type": "markdown",
      "source": "Write a Python program to get the maximum and minimum value in a dictionary"
    },
    {
      "metadata": {
        "trusted": true
      },
      "cell_type": "code",
      "source": "mad={'a':1234,'b':456,'c':789}\nmal=mad.items()\na=0\nb=0\nfor i in mal:\n    if a<i[1]:\n        a=i[1]\n        b=a\n    elif b>i[1]:\n        b=i[1]\n    \nprint(a)\nprint(b)\n        ",
      "execution_count": 81,
      "outputs": [
        {
          "output_type": "stream",
          "text": "1234\n456\n",
          "name": "stdout"
        }
      ]
    },
    {
      "metadata": {},
      "cell_type": "markdown",
      "source": "Write a Python program to remove duplicates from Dictionary"
    },
    {
      "metadata": {
        "trusted": true
      },
      "cell_type": "code",
      "source": "",
      "execution_count": null,
      "outputs": []
    },
    {
      "metadata": {
        "trusted": true
      },
      "cell_type": "code",
      "source": "",
      "execution_count": null,
      "outputs": []
    }
  ],
  "metadata": {
    "kernelspec": {
      "name": "python36",
      "display_name": "Python 3.6",
      "language": "python"
    },
    "language_info": {
      "mimetype": "text/x-python",
      "nbconvert_exporter": "python",
      "name": "python",
      "pygments_lexer": "ipython3",
      "version": "3.6.6",
      "file_extension": ".py",
      "codemirror_mode": {
        "version": 3,
        "name": "ipython"
      }
    }
  },
  "nbformat": 4,
  "nbformat_minor": 1
}