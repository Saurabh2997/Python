{
  "nbformat": 4,
  "nbformat_minor": 0,
  "metadata": {
    "colab": {
      "name": "Numpy.ipynb",
      "provenance": [],
      "collapsed_sections": [],
      "authorship_tag": "ABX9TyNiG2YXsZApRbLGVfmTz0Sk",
      "include_colab_link": true
    },
    "kernelspec": {
      "name": "python3",
      "display_name": "Python 3"
    }
  },
  "cells": [
    {
      "cell_type": "markdown",
      "metadata": {
        "id": "view-in-github",
        "colab_type": "text"
      },
      "source": [
        "<a href=\"https://colab.research.google.com/github/Saurabh2997/Python/blob/master/Numpy/Numpy.ipynb\" target=\"_parent\"><img src=\"https://colab.research.google.com/assets/colab-badge.svg\" alt=\"Open In Colab\"/></a>"
      ]
    },
    {
      "cell_type": "code",
      "metadata": {
        "id": "zqBX2oWe9UrM",
        "colab_type": "code",
        "colab": {}
      },
      "source": [
        "import numpy as np"
      ],
      "execution_count": 13,
      "outputs": []
    },
    {
      "cell_type": "markdown",
      "metadata": {
        "id": "41e43fuXBD8h",
        "colab_type": "text"
      },
      "source": [
        "Write a NumPy program to test whether none of the elements of a given array is zero."
      ]
    },
    {
      "cell_type": "code",
      "metadata": {
        "id": "qgrix49c_rJj",
        "colab_type": "code",
        "colab": {
          "base_uri": "https://localhost:8080/",
          "height": 51
        },
        "outputId": "3d577ade-c07c-4440-deac-cd66b5c7fcce"
      },
      "source": [
        "a=np.array([1,2,3,45,5,6,8])\n",
        "print(np.all(a))\n",
        "b=np.array([0,1,2,5])\n",
        "print(np.all(b))"
      ],
      "execution_count": 18,
      "outputs": [
        {
          "output_type": "stream",
          "text": [
            "True\n",
            "False\n"
          ],
          "name": "stdout"
        }
      ]
    },
    {
      "cell_type": "markdown",
      "metadata": {
        "id": "9X3MYOIJbdyq",
        "colab_type": "text"
      },
      "source": [
        "Write a NumPy program to test whether none of the elements of a given array is zero."
      ]
    },
    {
      "cell_type": "code",
      "metadata": {
        "id": "65bK-7zF_rNO",
        "colab_type": "code",
        "colab": {
          "base_uri": "https://localhost:8080/",
          "height": 34
        },
        "outputId": "4689e3bf-6a10-4bec-dac2-6b086e628059"
      },
      "source": [
        "a=np.array([1,2,3,45,5,6,8])\n",
        "np.any(a)\n"
      ],
      "execution_count": 19,
      "outputs": [
        {
          "output_type": "execute_result",
          "data": {
            "text/plain": [
              "True"
            ]
          },
          "metadata": {
            "tags": []
          },
          "execution_count": 19
        }
      ]
    },
    {
      "cell_type": "markdown",
      "metadata": {
        "id": "cwtbvLzAeO6s",
        "colab_type": "text"
      },
      "source": [
        "Write a NumPy program to create an array of 10 zeros,10 ones, 10 fives"
      ]
    },
    {
      "cell_type": "code",
      "metadata": {
        "id": "nSdhsh95_rS_",
        "colab_type": "code",
        "colab": {
          "base_uri": "https://localhost:8080/",
          "height": 68
        },
        "outputId": "9e0ff3ec-47ec-4c25-cfde-8b724a4ab6a8"
      },
      "source": [
        "a=np.zeros(10)\n",
        "print(a)\n",
        "b=np.ones(10)\n",
        "print(b)\n",
        "c=np.ones(10)*5\n",
        "print(c)"
      ],
      "execution_count": 21,
      "outputs": [
        {
          "output_type": "stream",
          "text": [
            "[0. 0. 0. 0. 0. 0. 0. 0. 0. 0.]\n",
            "[1. 1. 1. 1. 1. 1. 1. 1. 1. 1.]\n",
            "[5. 5. 5. 5. 5. 5. 5. 5. 5. 5.]\n"
          ],
          "name": "stdout"
        }
      ]
    },
    {
      "cell_type": "markdown",
      "metadata": {
        "id": "GPXpocXbepUS",
        "colab_type": "text"
      },
      "source": [
        "Write a NumPy program to create an array of the integers from 30 to70."
      ]
    },
    {
      "cell_type": "code",
      "metadata": {
        "id": "RcD-bi8oesdY",
        "colab_type": "code",
        "colab": {
          "base_uri": "https://localhost:8080/",
          "height": 51
        },
        "outputId": "cab91119-aa87-4987-966a-510eff3ad6ff"
      },
      "source": [
        "a=np.arange(30,70)\n",
        "print(a)"
      ],
      "execution_count": 22,
      "outputs": [
        {
          "output_type": "stream",
          "text": [
            "[30 31 32 33 34 35 36 37 38 39 40 41 42 43 44 45 46 47 48 49 50 51 52 53\n",
            " 54 55 56 57 58 59 60 61 62 63 64 65 66 67 68 69]\n"
          ],
          "name": "stdout"
        }
      ]
    },
    {
      "cell_type": "markdown",
      "metadata": {
        "id": "MFYDdLD-e4pO",
        "colab_type": "text"
      },
      "source": [
        "Write a NumPy program to create an array of all the even integers from 30 to 70"
      ]
    },
    {
      "cell_type": "code",
      "metadata": {
        "id": "DxKu9Lbj_rfZ",
        "colab_type": "code",
        "colab": {
          "base_uri": "https://localhost:8080/",
          "height": 34
        },
        "outputId": "c0336b83-64da-4014-c1ba-d3994fa1f28d"
      },
      "source": [
        "a=np.arange(30,70,2)\n",
        "print(a)"
      ],
      "execution_count": 23,
      "outputs": [
        {
          "output_type": "stream",
          "text": [
            "[30 32 34 36 38 40 42 44 46 48 50 52 54 56 58 60 62 64 66 68]\n"
          ],
          "name": "stdout"
        }
      ]
    },
    {
      "cell_type": "markdown",
      "metadata": {
        "id": "tDWqwAGgfM13",
        "colab_type": "text"
      },
      "source": [
        "Write a NumPy program to create a 3x3 identity matrix."
      ]
    },
    {
      "cell_type": "code",
      "metadata": {
        "id": "mLrQc770_rlY",
        "colab_type": "code",
        "colab": {
          "base_uri": "https://localhost:8080/",
          "height": 68
        },
        "outputId": "19448b54-11e1-4df6-b253-4f4bb800d18d"
      },
      "source": [
        "a=np.identity(3)\n",
        "print(a)"
      ],
      "execution_count": 25,
      "outputs": [
        {
          "output_type": "stream",
          "text": [
            "[[1. 0. 0.]\n",
            " [0. 1. 0.]\n",
            " [0. 0. 1.]]\n"
          ],
          "name": "stdout"
        }
      ]
    },
    {
      "cell_type": "markdown",
      "metadata": {
        "id": "ujbEvmJBjPww",
        "colab_type": "text"
      },
      "source": [
        "Write a NumPy program to generate a random number between 0 and 1"
      ]
    },
    {
      "cell_type": "code",
      "metadata": {
        "id": "lRPa0jSo_rrR",
        "colab_type": "code",
        "colab": {
          "base_uri": "https://localhost:8080/",
          "height": 34
        },
        "outputId": "64d84d88-ab11-4677-b890-c4a8e693bff1"
      },
      "source": [
        "a=np.random.normal(0,1,size=1)\n",
        "print(a)"
      ],
      "execution_count": 29,
      "outputs": [
        {
          "output_type": "stream",
          "text": [
            "[0.01007414]\n"
          ],
          "name": "stdout"
        }
      ]
    },
    {
      "cell_type": "markdown",
      "metadata": {
        "id": "N4c5rZfzjyH-",
        "colab_type": "text"
      },
      "source": [
        "Write a NumPy program to generate an array of 15 random numbers from a standard normal distribution"
      ]
    },
    {
      "cell_type": "code",
      "metadata": {
        "id": "GeOKwu0U_rxH",
        "colab_type": "code",
        "colab": {
          "base_uri": "https://localhost:8080/",
          "height": 68
        },
        "outputId": "16242c89-1578-44c6-beeb-4941c6fc772d"
      },
      "source": [
        "a=np.random.standard_normal(15)\n",
        "print(a)"
      ],
      "execution_count": 31,
      "outputs": [
        {
          "output_type": "stream",
          "text": [
            "[-1.87670541  0.54528657 -0.32235641 -0.59444143  1.58062783 -0.81311807\n",
            " -2.5832603   1.17823293 -0.53901245 -0.03003852  1.73807667 -0.46028948\n",
            "  0.91880908  0.29724772  0.80671854]\n"
          ],
          "name": "stdout"
        }
      ]
    },
    {
      "cell_type": "markdown",
      "metadata": {
        "id": "N_0xP0LFlPWW",
        "colab_type": "text"
      },
      "source": [
        "Write a NumPy program to create a 3X4 array using and iterate over it."
      ]
    },
    {
      "cell_type": "code",
      "metadata": {
        "id": "G5RNmz1U_r00",
        "colab_type": "code",
        "colab": {
          "base_uri": "https://localhost:8080/",
          "height": 68
        },
        "outputId": "7afe21af-2c72-412e-8d9d-7f7db9d791be"
      },
      "source": [
        "a=np.random.randint(1,50,(3,4))\n",
        "print(a)"
      ],
      "execution_count": 32,
      "outputs": [
        {
          "output_type": "stream",
          "text": [
            "[[24  1 26 17]\n",
            " [16 31  5 11]\n",
            " [23 32 37 37]]\n"
          ],
          "name": "stdout"
        }
      ]
    },
    {
      "cell_type": "code",
      "metadata": {
        "id": "drMjTbEY_rum",
        "colab_type": "code",
        "colab": {
          "base_uri": "https://localhost:8080/",
          "height": 119
        },
        "outputId": "ca9d058c-3e94-45c1-8941-bee1d8ea1303"
      },
      "source": [
        "\n",
        "a = np.arange(10,22).reshape((3, 4))\n",
        "print(\"Original array:\")\n",
        "print(a)\n",
        "print(\"Each element of the array is:\")\n",
        "for x in np.nditer(a):\n",
        "  print(x,end=\" \")"
      ],
      "execution_count": 48,
      "outputs": [
        {
          "output_type": "stream",
          "text": [
            "Original array:\n",
            "[[10 11 12 13]\n",
            " [14 15 16 17]\n",
            " [18 19 20 21]]\n",
            "Each element of the array is:\n",
            "10 11 12 13 14 15 16 17 18 19 20 21 "
          ],
          "name": "stdout"
        }
      ]
    },
    {
      "cell_type": "markdown",
      "metadata": {
        "id": "6r4PnicUmrgs",
        "colab_type": "text"
      },
      "source": [
        "Write a NumPy program to create a vector of length 10 with values evenly distributed between 5 and 50"
      ]
    },
    {
      "cell_type": "code",
      "metadata": {
        "id": "BGB9Ta02_rpL",
        "colab_type": "code",
        "colab": {
          "base_uri": "https://localhost:8080/",
          "height": 34
        },
        "outputId": "e48148e4-2835-4972-d36b-48a6b718f6b4"
      },
      "source": [
        "a=np.linspace(5,50,10)\n",
        "print(a)"
      ],
      "execution_count": 37,
      "outputs": [
        {
          "output_type": "stream",
          "text": [
            "[ 5. 10. 15. 20. 25. 30. 35. 40. 45. 50.]\n"
          ],
          "name": "stdout"
        }
      ]
    },
    {
      "cell_type": "markdown",
      "metadata": {
        "id": "hb7p_PhTonmn",
        "colab_type": "text"
      },
      "source": [
        "Write a NumPy program to create a vector with values from 0 to 20 and change the sign of the numbers in the range from 9 to 15"
      ]
    },
    {
      "cell_type": "code",
      "metadata": {
        "id": "NgZ84BaM_rjI",
        "colab_type": "code",
        "colab": {
          "base_uri": "https://localhost:8080/",
          "height": 68
        },
        "outputId": "3ef6b4b6-9c42-4c29-9502-6725b79833aa"
      },
      "source": [
        "a=np.arange(20)\n",
        "print('Original array',a)\n",
        "a[(a>=9)&(a<=15)]*=-1\n",
        "print(a)"
      ],
      "execution_count": 38,
      "outputs": [
        {
          "output_type": "stream",
          "text": [
            "Original array [ 0  1  2  3  4  5  6  7  8  9 10 11 12 13 14 15 16 17 18 19]\n",
            "[  0   1   2   3   4   5   6   7   8  -9 -10 -11 -12 -13 -14 -15  16  17\n",
            "  18  19]\n"
          ],
          "name": "stdout"
        }
      ]
    },
    {
      "cell_type": "markdown",
      "metadata": {
        "id": "pGX9YL-Nptvd",
        "colab_type": "text"
      },
      "source": [
        ". Write a NumPy program to create a vector of length 5 filled with arbitrary integers from 0 to 10."
      ]
    },
    {
      "cell_type": "code",
      "metadata": {
        "id": "IZTJCHkt_rcr",
        "colab_type": "code",
        "colab": {
          "base_uri": "https://localhost:8080/",
          "height": 34
        },
        "outputId": "ff0de770-1ab5-4ad2-8ed3-ac18b878dd98"
      },
      "source": [
        "a=np.random.randint(0,10,5)\n",
        "print(a)"
      ],
      "execution_count": 40,
      "outputs": [
        {
          "output_type": "stream",
          "text": [
            "[2 9 6 4 7]\n"
          ],
          "name": "stdout"
        }
      ]
    },
    {
      "cell_type": "markdown",
      "metadata": {
        "id": "n7iw8OEarVjS",
        "colab_type": "text"
      },
      "source": [
        "Write a NumPy program to multiply the values of two given vectors"
      ]
    },
    {
      "cell_type": "code",
      "metadata": {
        "id": "91bn8eh3pmLc",
        "colab_type": "code",
        "colab": {
          "base_uri": "https://localhost:8080/",
          "height": 68
        },
        "outputId": "990904f7-981f-4f2c-fcc3-d5d359fb0414"
      },
      "source": [
        "a=np.arange(5)\n",
        "b=np.ones(5)*2\n",
        "print('array 1',a)\n",
        "print('array 2',b)\n",
        "c=a*b\n",
        "print('array 1*2',c)"
      ],
      "execution_count": 41,
      "outputs": [
        {
          "output_type": "stream",
          "text": [
            "array 1 [0 1 2 3 4]\n",
            "array 2 [2. 2. 2. 2. 2.]\n",
            "array 1*2 [0. 2. 4. 6. 8.]\n"
          ],
          "name": "stdout"
        }
      ]
    },
    {
      "cell_type": "markdown",
      "metadata": {
        "id": "qt7rtizjsEF6",
        "colab_type": "text"
      },
      "source": [
        "Write a NumPy program to create a 3x4 matrix filled with values from 10 to 21"
      ]
    },
    {
      "cell_type": "code",
      "metadata": {
        "id": "rYia0rJdpmQk",
        "colab_type": "code",
        "colab": {
          "base_uri": "https://localhost:8080/",
          "height": 68
        },
        "outputId": "bfbc87de-d95c-4e7b-838f-647630db9ca1"
      },
      "source": [
        "a=np.random.randint(10,21,(3,4))\n",
        "print(a)"
      ],
      "execution_count": 42,
      "outputs": [
        {
          "output_type": "stream",
          "text": [
            "[[14 15 17 11]\n",
            " [14 18 11 18]\n",
            " [19 19 16 10]]\n"
          ],
          "name": "stdout"
        }
      ]
    },
    {
      "cell_type": "markdown",
      "metadata": {
        "id": "Oq3vJgX2sbWM",
        "colab_type": "text"
      },
      "source": [
        "Write a NumPy program to find the number of rows and columns of a given matrix."
      ]
    },
    {
      "cell_type": "code",
      "metadata": {
        "id": "f2rp_RzSpmVE",
        "colab_type": "code",
        "colab": {
          "base_uri": "https://localhost:8080/",
          "height": 85
        },
        "outputId": "2de23bec-584f-4554-bbe4-6a938457268e"
      },
      "source": [
        "a = np.random.randint(0,22,(3,4))\n",
        "print(a)\n",
        "print(np.shape(a))"
      ],
      "execution_count": 53,
      "outputs": [
        {
          "output_type": "stream",
          "text": [
            "[[18 19  2 13]\n",
            " [ 4  1  2  3]\n",
            " [ 5  8  3  3]]\n",
            "(3, 4)\n"
          ],
          "name": "stdout"
        }
      ]
    },
    {
      "cell_type": "markdown",
      "metadata": {
        "id": "NjXsberxvdRR",
        "colab_type": "text"
      },
      "source": [
        "Write a NumPy program to create a 10x10 matrix, in which the elements on the borders will be equal to 1, and inside 0"
      ]
    },
    {
      "cell_type": "code",
      "metadata": {
        "id": "Ebh6fmuWpmp7",
        "colab_type": "code",
        "colab": {
          "base_uri": "https://localhost:8080/",
          "height": 187
        },
        "outputId": "fda6fc58-b5c1-46c8-d3b0-6d1383769681"
      },
      "source": [
        "a=np.ones((10,10))\n",
        "a[1:-1,1:-1]=0\n",
        "print(a)"
      ],
      "execution_count": 55,
      "outputs": [
        {
          "output_type": "stream",
          "text": [
            "[[1. 1. 1. 1. 1. 1. 1. 1. 1. 1.]\n",
            " [1. 0. 0. 0. 0. 0. 0. 0. 0. 1.]\n",
            " [1. 0. 0. 0. 0. 0. 0. 0. 0. 1.]\n",
            " [1. 0. 0. 0. 0. 0. 0. 0. 0. 1.]\n",
            " [1. 0. 0. 0. 0. 0. 0. 0. 0. 1.]\n",
            " [1. 0. 0. 0. 0. 0. 0. 0. 0. 1.]\n",
            " [1. 0. 0. 0. 0. 0. 0. 0. 0. 1.]\n",
            " [1. 0. 0. 0. 0. 0. 0. 0. 0. 1.]\n",
            " [1. 0. 0. 0. 0. 0. 0. 0. 0. 1.]\n",
            " [1. 1. 1. 1. 1. 1. 1. 1. 1. 1.]]\n"
          ],
          "name": "stdout"
        }
      ]
    },
    {
      "cell_type": "markdown",
      "metadata": {
        "id": "fixSzcCWw1-Z",
        "colab_type": "text"
      },
      "source": [
        "Write a NumPy program to create a 5x5 zero matrix with elements on the main diagonal equal to 1, 2, 3, 4, 5."
      ]
    },
    {
      "cell_type": "code",
      "metadata": {
        "id": "rm1pdMpwpmwz",
        "colab_type": "code",
        "colab": {}
      },
      "source": [
        ""
      ],
      "execution_count": null,
      "outputs": []
    },
    {
      "cell_type": "code",
      "metadata": {
        "id": "g8ubULCMpm3k",
        "colab_type": "code",
        "colab": {}
      },
      "source": [
        ""
      ],
      "execution_count": null,
      "outputs": []
    },
    {
      "cell_type": "code",
      "metadata": {
        "id": "fi_HVII9pm-o",
        "colab_type": "code",
        "colab": {}
      },
      "source": [
        ""
      ],
      "execution_count": null,
      "outputs": []
    },
    {
      "cell_type": "code",
      "metadata": {
        "id": "Xzy2beo4pnGD",
        "colab_type": "code",
        "colab": {}
      },
      "source": [
        ""
      ],
      "execution_count": null,
      "outputs": []
    },
    {
      "cell_type": "code",
      "metadata": {
        "id": "X8dxD6BdpnMQ",
        "colab_type": "code",
        "colab": {}
      },
      "source": [
        ""
      ],
      "execution_count": null,
      "outputs": []
    },
    {
      "cell_type": "code",
      "metadata": {
        "id": "Cj5SR0fdpnDx",
        "colab_type": "code",
        "colab": {}
      },
      "source": [
        ""
      ],
      "execution_count": null,
      "outputs": []
    },
    {
      "cell_type": "code",
      "metadata": {
        "id": "W9SwPs3Hpm8a",
        "colab_type": "code",
        "colab": {}
      },
      "source": [
        ""
      ],
      "execution_count": null,
      "outputs": []
    },
    {
      "cell_type": "code",
      "metadata": {
        "id": "fzwvV8Lupm0_",
        "colab_type": "code",
        "colab": {}
      },
      "source": [
        ""
      ],
      "execution_count": null,
      "outputs": []
    },
    {
      "cell_type": "code",
      "metadata": {
        "id": "KDv78LRkpmt8",
        "colab_type": "code",
        "colab": {}
      },
      "source": [
        ""
      ],
      "execution_count": null,
      "outputs": []
    },
    {
      "cell_type": "code",
      "metadata": {
        "id": "atGmd-IWpmm4",
        "colab_type": "code",
        "colab": {}
      },
      "source": [
        ""
      ],
      "execution_count": null,
      "outputs": []
    },
    {
      "cell_type": "code",
      "metadata": {
        "id": "_SJT7_-Fpmk3",
        "colab_type": "code",
        "colab": {}
      },
      "source": [
        ""
      ],
      "execution_count": null,
      "outputs": []
    },
    {
      "cell_type": "code",
      "metadata": {
        "id": "QSM0KneupmjW",
        "colab_type": "code",
        "colab": {}
      },
      "source": [
        ""
      ],
      "execution_count": null,
      "outputs": []
    },
    {
      "cell_type": "code",
      "metadata": {
        "id": "RgWXQBSkpmfq",
        "colab_type": "code",
        "colab": {}
      },
      "source": [
        ""
      ],
      "execution_count": null,
      "outputs": []
    },
    {
      "cell_type": "code",
      "metadata": {
        "id": "FcmAk35gpmcP",
        "colab_type": "code",
        "colab": {}
      },
      "source": [
        ""
      ],
      "execution_count": null,
      "outputs": []
    },
    {
      "cell_type": "code",
      "metadata": {
        "id": "uba0meOFpmaS",
        "colab_type": "code",
        "colab": {}
      },
      "source": [
        ""
      ],
      "execution_count": null,
      "outputs": []
    },
    {
      "cell_type": "code",
      "metadata": {
        "id": "LXdsK1rc_rZV",
        "colab_type": "code",
        "colab": {}
      },
      "source": [
        ""
      ],
      "execution_count": null,
      "outputs": []
    },
    {
      "cell_type": "code",
      "metadata": {
        "id": "shBj-iI8_rXK",
        "colab_type": "code",
        "colab": {}
      },
      "source": [
        ""
      ],
      "execution_count": null,
      "outputs": []
    },
    {
      "cell_type": "code",
      "metadata": {
        "id": "B08jGXoY_rRS",
        "colab_type": "code",
        "colab": {}
      },
      "source": [
        ""
      ],
      "execution_count": null,
      "outputs": []
    }
  ]
}